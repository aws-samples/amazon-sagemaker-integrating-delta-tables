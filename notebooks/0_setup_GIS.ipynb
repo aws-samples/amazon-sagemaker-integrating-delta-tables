{
 "cells": [
  {
   "cell_type": "markdown",
   "id": "25f186c5-88be-4ac7-b8c6-f6ff18dd8804",
   "metadata": {
    "tags": []
   },
   "source": [
    "# From Delta Lake to Amazon SageMaker\n",
    "\n",
    "[Delta Lake](https://delta.io/) is a common open-source framework used for storing data in Lakehouse architectures.\n",
    "\n",
    "In this sample we demonstrate how to integrate Delta Tables with Amazon SageMaker for performing data exploration, ingestion, processing, training, and hosting for Machine Learning.\n",
    "\n",
    "---\n",
    "\n",
    "## 0 - Connection Set-up - Via AWS Glue Interactive Sessions in Amazon SageMaker Studio\n",
    "\n",
    "***Use Kernel \"SparkAnalytics 2.0 (Glue PySpark)\" for running this notebook***\n",
    "\n",
    "In this notebook, we will setup a connection between Amazon SageMaker and a Delta Table.\n",
    "This time we will do this by using the built-in integration between Amazon SageMaker and AWS Glue, through the Kernel for \"Glue Interactive Sessions\" in SageMaker Studio.\n",
    "\n",
    "<center><img src=\"../images/DeltaLake_to_SageMaker_0_GIS.png\" width=\"50%\"></center>\n",
    "\n",
    "This method provides the following advantages compared to using any of the other alternatives explored in the previous notebook:\n",
    "* It uses SageMaker Studio notebooks as the development environment for setting up the connections, exploring, and processing the Delta Lake tables\n",
    "* It uses the serverless and high-scale performance of Glue for powering the queries, exploration, and pre-processed of the Delta Lake tables' data\n",
    "\n",
    "#### Important - Pre-Requisite:\n",
    "\n",
    "Note, for using the Delta Lake library we need to point our session towards the delta-core library jar-file stored in Amazon S3. For doing this, please upload the file \"delta-core_2.12-1.0.1.jar\" included with this repo to your preferred S3 location, and update the path in the following cell accordingly.\n"
   ]
  },
  {
   "cell_type": "code",
   "execution_count": 10,
   "id": "00be34b1-bbc4-49aa-8dbc-5081e413c0c0",
   "metadata": {
    "scrolled": true,
    "tags": []
   },
   "outputs": [
    {
     "name": "stdout",
     "output_type": "stream",
     "text": [
      "Welcome to the Glue Interactive Sessions Kernel\n",
      "For more information on available magic commands, please type %help in any new cell.\n",
      "\n",
      "Please view our Getting Started page to access the most up-to-date information on the Interactive Sessions kernel: https://docs.aws.amazon.com/glue/latest/dg/interactive-sessions.html\n",
      "It looks like there is a newer version of the kernel available. The latest version is 0.37.2 and you have 0.36 installed.\n",
      "Please run `pip install --upgrade aws-glue-sessions` to upgrade your kernel\n",
      "\n",
      "Available Magic Commands\n",
      "\n",
      "## Sessions Magics\n",
      "%help | Return a list of descriptions and input types for all magic commands. \n",
      "%profile | String | Specify a profile in your aws configuration to use as the credentials provider.\n",
      "%region | String | Specify the AWS region in which to initialize a session | Default from ~/.aws/configure\n",
      "%idle_timeout | Int | The number of minutes of inactivity after which a session will timeout. The default idle timeout value is 2880 minutes (48 hours).\n",
      "%session_id | Returns the session ID for the running session. \n",
      "%session_id_prefix | String | Define a String that will precede all session IDs in the format [session_id_prefix]-[session_id]. If a session ID is not provided, a random UUID will be generated.\n",
      "%status | Returns the status of the current Glue session including its duration, configuration and executing user / role.\n",
      "%list_sessions | Lists all currently running sessions by name and ID.\n",
      "%stop_session | Stops the current session.\n",
      "%glue_version | String | The version of Glue to be used by this session. Currently, the only valid options are 2.0 and 3.0. The default value is 2.0.\n",
      "%streaming | String | Changes the session type to Glue Streaming. \n",
      "%etl | String | Changes the session type to Glue ETL. \n",
      "\n",
      "## Glue Config Magics\n",
      "%%configure | Dictionary | A json-formatted dictionary consisting of all configuration parameters for a session. Each parameter can be specified here or through individual magics.\n",
      "%iam_role | String | Specify an IAM role ARN to execute your session with. | Default from ~/.aws/configure\n",
      "%number_of_workers | int | The number of workers of a defined worker_type that are allocated when a job runs. worker_type must be set too. The default number_of_workers is 5.\n",
      "%worker_type | String | Standard, G.1X, or G.2X. number_of_workers must be set too. The default worker_type is G.1X.\n",
      "%security_config | String | Define a Security Configuration to be used with this session. \n",
      "%connections | List | Specify a comma separated list of connections to use in the session.\n",
      "%additional_python_modules | List | Comma separated list of additional Python modules to include in your cluster (can be from Pypi or S3).\n",
      "%extra_py_files | List | Comma separated list of additional Python files From S3.\n",
      "%extra_jars | List | Comma separated list of additional Jars to include in the cluster.\n",
      "%spark_conf | String | Specify custom spark configurations for your session. E.g. %spark_conf spark.serializer=org.apache.spark.serializer.KryoSerializer\n",
      "\n",
      "## Action Magics\n",
      "%%sql | String | Run SQL code. All lines after the initial %%sql magic will be passed as part of the SQL code. \n",
      "\n",
      "Setting session ID prefix to delta-to-sagemaker-\n",
      "Setting Glue version to: 3.0\n",
      "Current idle_timeout is 2880 minutes.\n",
      "idle_timeout has been set to 480 minutes.\n",
      "Additional python modules to be included:\n",
      "sagemaker\n",
      "Extra jars to be included:\n",
      "s3://sagemaker-eu-west-1-889960878219/delta_to_sagemaker/delta_jar/delta-core_2.12-1.0.1.jar\n",
      "Extra py files to be included:\n",
      "s3://sagemaker-eu-west-1-889960878219/delta_to_sagemaker/delta_jar/delta-core_2.12-1.0.1.jar\n",
      "The following configurations have been updated: {'--enable-spark-ui': 'true', '--spark-event-logs-path': 's3://sagemaker-eu-west-1-889960878219/gis-spark-logs/', '--conf': 'spark.sql.extensions=io.delta.sql.DeltaSparkSessionExtension'}\n",
      "s3://sagemaker-eu-west-1-889960878219/delta_to_sagemaker/delta_jar/delta-core_2.12-1.0.1.jar\n"
     ]
    }
   ],
   "source": [
    "%help\n",
    "\n",
    "%session_id_prefix delta-to-sagemaker-\n",
    "%glue_version 3.0\n",
    "%idle_timeout 480\n",
    "%additional_python_modules 'sagemaker'\n",
    "%extra_jars \"s3://sagemaker-eu-west-1-889960878219/delta_to_sagemaker/delta_jar/delta-core_2.12-1.0.1.jar\"\n",
    "%extra_py_files \"s3://sagemaker-eu-west-1-889960878219/delta_to_sagemaker/delta_jar/delta-core_2.12-1.0.1.jar\"\n",
    "%%configure\n",
    "{\n",
    "\"--enable-spark-ui\": \"true\",\n",
    "\"--spark-event-logs-path\": \"s3://sagemaker-eu-west-1-889960878219/gis-spark-logs/\",\n",
    "\"--conf\": \"spark.sql.catalog.spark_catalog=org.apache.spark.sql.delta.catalog.DeltaCatalog\",\n",
    "\"--conf\": \"spark.sql.extensions=io.delta.sql.DeltaSparkSessionExtension\"\n",
    "}"
   ]
  },
  {
   "cell_type": "code",
   "execution_count": 1,
   "id": "5ce468b2-39f6-4620-a598-0623fdcd3d77",
   "metadata": {
    "scrolled": true,
    "tags": []
   },
   "outputs": [
    {
     "name": "stdout",
     "output_type": "stream",
     "text": [
      "Authenticating with environment variables and user-defined glue_role_arn: arn:aws:iam::889960878219:role/service-role/AmazonSageMaker-ExecutionRole-20180920T165537\n",
      "Trying to create a Glue session for the kernel.\n",
      "Worker Type: G.1X\n",
      "Number of Workers: 5\n",
      "Session ID: delta-to-sagemaker--c089f5f4-27a3-4ff0-8a90-94ed24d70642\n",
      "Applying the following default arguments:\n",
      "--glue_kernel_version 0.36\n",
      "--enable-glue-datacatalog true\n",
      "--additional-python-modules sagemaker\n",
      "--extra-jars s3://sagemaker-eu-west-1-889960878219/delta_to_sagemaker/delta_jar/delta-core_2.12-1.0.1.jar\n",
      "--extra-py-files s3://sagemaker-eu-west-1-889960878219/delta_to_sagemaker/delta_jar/delta-core_2.12-1.0.1.jar\n",
      "--enable-spark-ui true\n",
      "--spark-event-logs-path s3://sagemaker-eu-west-1-889960878219/gis-spark-logs/\n",
      "--conf spark.sql.extensions=io.delta.sql.DeltaSparkSessionExtension\n",
      "Waiting for session delta-to-sagemaker--c089f5f4-27a3-4ff0-8a90-94ed24d70642 to get into ready status...\n",
      "Session delta-to-sagemaker--c089f5f4-27a3-4ff0-8a90-94ed24d70642 has been created\n",
      "\n",
      "'2.130.0'\n"
     ]
    }
   ],
   "source": [
    "import sagemaker\n",
    "from pyspark import SparkContext, SparkConf\n",
    "from pyspark.sql import SparkSession, SQLContext\n",
    "from delta import DeltaTable\n",
    "sagemaker.__version__"
   ]
  },
  {
   "cell_type": "code",
   "execution_count": 2,
   "id": "44eb26df-ecd9-4686-b999-6ea586015e9c",
   "metadata": {},
   "outputs": [
    {
     "name": "stdout",
     "output_type": "stream",
     "text": [
      "Default bucket: sagemaker-eu-west-1-889960878219\n"
     ]
    }
   ],
   "source": [
    "# S3 bucket for saving processing job outputs\n",
    "sm_session = sagemaker.Session()\n",
    "bucket = sm_session.default_bucket()\n",
    "print('Default bucket: '+bucket)"
   ]
  },
  {
   "cell_type": "code",
   "execution_count": 3,
   "id": "2d265f0d-2e9e-4836-8469-61c69af2b4ea",
   "metadata": {
    "tags": []
   },
   "outputs": [
    {
     "name": "stdout",
     "output_type": "stream",
     "text": [
      "Spark version: 3.1.1-amzn-0\n"
     ]
    }
   ],
   "source": [
    "spark = (SparkSession\n",
    "    .builder\n",
    "    .appName(\"PySparkApp\") \n",
    "    .config(\"spark.sql.extensions\", \"io.delta.sql.DeltaSparkSessionExtension\") \n",
    "    .config(\"spark.sql.catalog.spark_catalog\", \"org.apache.spark.sql.delta.catalog.DeltaCatalog\") \n",
    "    .getOrCreate())\n",
    "\n",
    "sc = spark.sparkContext\n",
    "\n",
    "print('Spark version: '+str(sc.version))"
   ]
  },
  {
   "cell_type": "code",
   "execution_count": 4,
   "id": "28ccd129-6a35-4844-b2e4-bb6cb20d4f6b",
   "metadata": {
    "tags": []
   },
   "outputs": [
    {
     "name": "stdout",
     "output_type": "stream",
     "text": [
      "s3a://sagemaker-eu-west-1-889960878219/delta_to_sagemaker/delta_format/\n"
     ]
    }
   ],
   "source": [
    "s3a_delta_table_uri=f's3a://{bucket}/delta_to_sagemaker/delta_format/'\n",
    "print(s3a_delta_table_uri)"
   ]
  },
  {
   "cell_type": "code",
   "execution_count": 5,
   "id": "69e982bc-4b18-45c5-a05c-e48cfc862777",
   "metadata": {
    "tags": []
   },
   "outputs": [
    {
     "name": "stdout",
     "output_type": "stream",
     "text": [
      "Is this a Delta Table?:\n",
      "True\n"
     ]
    }
   ],
   "source": [
    "print(f'Is this a Delta Table?:\\n{DeltaTable.isDeltaTable(spark, s3a_delta_table_uri)}')"
   ]
  },
  {
   "cell_type": "code",
   "execution_count": 6,
   "id": "165815ad-f61e-44fd-a90b-ca65a01897c3",
   "metadata": {
    "tags": []
   },
   "outputs": [
    {
     "name": "stdout",
     "output_type": "stream",
     "text": [
      "+-----+----------+--------+------+-------+--------------+-----------+--------------+\n",
      "|rowID| timestamp|ratingID|userID|placeID|rating_overall|rating_food|rating_service|\n",
      "+-----+----------+--------+------+-------+--------------+-----------+--------------+\n",
      "|    0|2022-08-25|    3416|    gK|    681|             1|          2|             2|\n",
      "|    1|2022-08-25|    3417|    gK|    719|             1|          1|             1|\n",
      "|    2|2022-08-25|    3418|    gK|   1128|             1|          2|             2|\n",
      "|    3|2022-08-25|    3419|    gK|   1203|             1|          2|             2|\n",
      "|    4|2022-08-25|    3420|    gK|   1058|             1|          1|             1|\n",
      "|    5|2022-08-25|    3421|    gK|    585|             1|          0|             0|\n",
      "|    6|2022-08-25|    3422|    gL|    990|             2|          2|             2|\n",
      "|    7|2022-08-25|    3423|    gL|   1192|             2|          2|             2|\n",
      "|    8|2022-08-25|    3424|    gL|   1390|             2|          2|             2|\n",
      "|    9|2022-08-25|    3425|    gL|   1052|             2|          2|             2|\n",
      "+-----+----------+--------+------+-------+--------------+-----------+--------------+\n",
      "only showing top 10 rows\n"
     ]
    }
   ],
   "source": [
    "rating_df_gis = spark.read.format(\"delta\").load(f's3a://{bucket}/delta_to_sagemaker/delta_format/')\n",
    "rating_df_gis.show(10)"
   ]
  },
  {
   "cell_type": "markdown",
   "id": "2015992f-cfc9-4e9e-875a-5f645e65c0b8",
   "metadata": {},
   "source": [
    "----\n",
    "\n",
    "In the following notebook, we will perform an Exploratory Data Analysis by relying on SageMaker Data Wrangler interactive widgets embedded in our notebook."
   ]
  }
 ],
 "metadata": {
  "instance_type": "ml.t3.medium",
  "kernelspec": {
   "display_name": "Glue PySpark (SparkAnalytics 2.0)",
   "language": "python",
   "name": "conda-env-sm_glue_is-glue_pyspark__SAGEMAKER_INTERNAL__arn:aws:sagemaker:eu-west-1:470317259841:image/sagemaker-sparkanalytics-310-v1"
  },
  "language_info": {
   "codemirror_mode": {
    "name": "python",
    "version": 3
   },
   "file_extension": ".py",
   "mimetype": "text/x-python",
   "name": "Python_Glue_Session",
   "pygments_lexer": "python3"
  }
 },
 "nbformat": 4,
 "nbformat_minor": 5
}
